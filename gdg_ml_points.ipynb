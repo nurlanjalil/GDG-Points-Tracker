{
 "cells": [
  {
   "cell_type": "code",
   "execution_count": 1,
   "metadata": {
    "id": "IiHz_kAaL6Ae"
   },
   "outputs": [],
   "source": [
    "import pandas as pd"
   ]
  },
  {
   "cell_type": "code",
   "execution_count": 2,
   "metadata": {
    "id": "PBb0nJKMMj8u"
   },
   "outputs": [],
   "source": [
    "df = pd.read_csv('cloudskillprofiles.csv')"
   ]
  },
  {
   "cell_type": "code",
   "execution_count": 3,
   "metadata": {
    "colab": {
     "base_uri": "https://localhost:8080/",
     "height": 206
    },
    "id": "dzpoQsgQMaUi",
    "outputId": "b5fad243-9990-45ed-b632-8daf1af9412f"
   },
   "outputs": [
    {
     "data": {
      "text/html": [
       "<div>\n",
       "<style scoped>\n",
       "    .dataframe tbody tr th:only-of-type {\n",
       "        vertical-align: middle;\n",
       "    }\n",
       "\n",
       "    .dataframe tbody tr th {\n",
       "        vertical-align: top;\n",
       "    }\n",
       "\n",
       "    .dataframe thead th {\n",
       "        text-align: right;\n",
       "    }\n",
       "</style>\n",
       "<table border=\"1\" class=\"dataframe\">\n",
       "  <thead>\n",
       "    <tr style=\"text-align: right;\">\n",
       "      <th></th>\n",
       "      <th>Name</th>\n",
       "      <th>mail</th>\n",
       "      <th>profile</th>\n",
       "      <th>Unnamed: 3</th>\n",
       "      <th>Unnamed: 4</th>\n",
       "    </tr>\n",
       "  </thead>\n",
       "  <tbody>\n",
       "    <tr>\n",
       "      <th>0</th>\n",
       "      <td>Şeyla Talıbova</td>\n",
       "      <td>syl09518@gmail.com</td>\n",
       "      <td>https://www.cloudskillsboost.google/public_pro...</td>\n",
       "      <td>NaN</td>\n",
       "      <td>NaN</td>\n",
       "    </tr>\n",
       "    <tr>\n",
       "      <th>1</th>\n",
       "      <td>Zahid Shamshadov</td>\n",
       "      <td>createdbyzahid@gmail.com</td>\n",
       "      <td>https://www.cloudskillsboost.google/public_pro...</td>\n",
       "      <td>NaN</td>\n",
       "      <td>NaN</td>\n",
       "    </tr>\n",
       "    <tr>\n",
       "      <th>2</th>\n",
       "      <td>Bahman Orujov</td>\n",
       "      <td>borujov14034@ada.edu.az</td>\n",
       "      <td>https://www.cloudskillsboost.google/public_pro...</td>\n",
       "      <td>NaN</td>\n",
       "      <td>NaN</td>\n",
       "    </tr>\n",
       "    <tr>\n",
       "      <th>3</th>\n",
       "      <td>Hamida Jafarova</td>\n",
       "      <td>hamidaajafarova@gmail.com</td>\n",
       "      <td>https://www.cloudskillsboost.google/public_pro...</td>\n",
       "      <td>600.0</td>\n",
       "      <td>NaN</td>\n",
       "    </tr>\n",
       "    <tr>\n",
       "      <th>4</th>\n",
       "      <td>Mədinə Məmmədli</td>\n",
       "      <td>mammadli.madina123@gmail.com</td>\n",
       "      <td>https://www.cloudskillsboost.google/public_pro...</td>\n",
       "      <td>920.0</td>\n",
       "      <td>NaN</td>\n",
       "    </tr>\n",
       "  </tbody>\n",
       "</table>\n",
       "</div>"
      ],
      "text/plain": [
       "               Name                          mail  \\\n",
       "0    Şeyla Talıbova            syl09518@gmail.com   \n",
       "1  Zahid Shamshadov      createdbyzahid@gmail.com   \n",
       "2     Bahman Orujov       borujov14034@ada.edu.az   \n",
       "3   Hamida Jafarova     hamidaajafarova@gmail.com   \n",
       "4   Mədinə Məmmədli  mammadli.madina123@gmail.com   \n",
       "\n",
       "                                             profile  Unnamed: 3  Unnamed: 4  \n",
       "0  https://www.cloudskillsboost.google/public_pro...         NaN         NaN  \n",
       "1  https://www.cloudskillsboost.google/public_pro...         NaN         NaN  \n",
       "2  https://www.cloudskillsboost.google/public_pro...         NaN         NaN  \n",
       "3  https://www.cloudskillsboost.google/public_pro...       600.0         NaN  \n",
       "4  https://www.cloudskillsboost.google/public_pro...       920.0         NaN  "
      ]
     },
     "execution_count": 3,
     "metadata": {},
     "output_type": "execute_result"
    }
   ],
   "source": [
    "df.head()"
   ]
  },
  {
   "cell_type": "markdown",
   "metadata": {
    "id": "_o2Z7yTDMZaw"
   },
   "source": []
  },
  {
   "cell_type": "code",
   "execution_count": 4,
   "metadata": {
    "id": "qpfdYl79Myd6"
   },
   "outputs": [],
   "source": [
    "df = df.iloc[:, :-2]"
   ]
  },
  {
   "cell_type": "markdown",
   "metadata": {
    "id": "t6KdYPIMS3KZ"
   },
   "source": []
  },
  {
   "cell_type": "code",
   "execution_count": 5,
   "metadata": {
    "colab": {
     "base_uri": "https://localhost:8080/",
     "height": 206
    },
    "id": "8ELydmcmMzSe",
    "outputId": "390b9623-7702-4e50-9cfe-13f491d02b92"
   },
   "outputs": [
    {
     "data": {
      "text/html": [
       "<div>\n",
       "<style scoped>\n",
       "    .dataframe tbody tr th:only-of-type {\n",
       "        vertical-align: middle;\n",
       "    }\n",
       "\n",
       "    .dataframe tbody tr th {\n",
       "        vertical-align: top;\n",
       "    }\n",
       "\n",
       "    .dataframe thead th {\n",
       "        text-align: right;\n",
       "    }\n",
       "</style>\n",
       "<table border=\"1\" class=\"dataframe\">\n",
       "  <thead>\n",
       "    <tr style=\"text-align: right;\">\n",
       "      <th></th>\n",
       "      <th>Name</th>\n",
       "      <th>mail</th>\n",
       "      <th>profile</th>\n",
       "    </tr>\n",
       "  </thead>\n",
       "  <tbody>\n",
       "    <tr>\n",
       "      <th>0</th>\n",
       "      <td>Şeyla Talıbova</td>\n",
       "      <td>syl09518@gmail.com</td>\n",
       "      <td>https://www.cloudskillsboost.google/public_pro...</td>\n",
       "    </tr>\n",
       "    <tr>\n",
       "      <th>1</th>\n",
       "      <td>Zahid Shamshadov</td>\n",
       "      <td>createdbyzahid@gmail.com</td>\n",
       "      <td>https://www.cloudskillsboost.google/public_pro...</td>\n",
       "    </tr>\n",
       "    <tr>\n",
       "      <th>2</th>\n",
       "      <td>Bahman Orujov</td>\n",
       "      <td>borujov14034@ada.edu.az</td>\n",
       "      <td>https://www.cloudskillsboost.google/public_pro...</td>\n",
       "    </tr>\n",
       "    <tr>\n",
       "      <th>3</th>\n",
       "      <td>Hamida Jafarova</td>\n",
       "      <td>hamidaajafarova@gmail.com</td>\n",
       "      <td>https://www.cloudskillsboost.google/public_pro...</td>\n",
       "    </tr>\n",
       "    <tr>\n",
       "      <th>4</th>\n",
       "      <td>Mədinə Məmmədli</td>\n",
       "      <td>mammadli.madina123@gmail.com</td>\n",
       "      <td>https://www.cloudskillsboost.google/public_pro...</td>\n",
       "    </tr>\n",
       "  </tbody>\n",
       "</table>\n",
       "</div>"
      ],
      "text/plain": [
       "               Name                          mail  \\\n",
       "0    Şeyla Talıbova            syl09518@gmail.com   \n",
       "1  Zahid Shamshadov      createdbyzahid@gmail.com   \n",
       "2     Bahman Orujov       borujov14034@ada.edu.az   \n",
       "3   Hamida Jafarova     hamidaajafarova@gmail.com   \n",
       "4   Mədinə Məmmədli  mammadli.madina123@gmail.com   \n",
       "\n",
       "                                             profile  \n",
       "0  https://www.cloudskillsboost.google/public_pro...  \n",
       "1  https://www.cloudskillsboost.google/public_pro...  \n",
       "2  https://www.cloudskillsboost.google/public_pro...  \n",
       "3  https://www.cloudskillsboost.google/public_pro...  \n",
       "4  https://www.cloudskillsboost.google/public_pro...  "
      ]
     },
     "execution_count": 5,
     "metadata": {},
     "output_type": "execute_result"
    }
   ],
   "source": [
    "df.head()"
   ]
  },
  {
   "cell_type": "code",
   "execution_count": 6,
   "metadata": {
    "id": "5B5wQDhmNAEd"
   },
   "outputs": [
    {
     "name": "stderr",
     "output_type": "stream",
     "text": [
      "/Users/nurlanjalil/Library/Python/3.9/lib/python/site-packages/urllib3/__init__.py:34: NotOpenSSLWarning: urllib3 v2.0 only supports OpenSSL 1.1.1+, currently the 'ssl' module is compiled with 'LibreSSL 2.8.3'. See: https://github.com/urllib3/urllib3/issues/3020\n",
      "  warnings.warn(\n"
     ]
    }
   ],
   "source": [
    "import requests\n",
    "from bs4 import BeautifulSoup"
   ]
  },
  {
   "cell_type": "code",
   "execution_count": 7,
   "metadata": {
    "id": "l2SwmUZsNTHd"
   },
   "outputs": [],
   "source": [
    "def get_points(link):\n",
    "    try:\n",
    "        # Make a GET request to the link\n",
    "        response = requests.get(link)\n",
    "        response.raise_for_status()  # Raise an exception for bad status codes\n",
    "\n",
    "        # Parse the page content\n",
    "        soup = BeautifulSoup(response.content, 'html.parser')\n",
    "\n",
    "        # Find the first element with class 'profile-league'\n",
    "        profile_league = soup.find(class_='profile-league')\n",
    "\n",
    "        if profile_league:\n",
    "            # Find the <strong> tag inside 'profile-league' and get its text\n",
    "            strong_text = profile_league.find('strong').get_text(strip=True)\n",
    "            return strong_text\n",
    "        else:\n",
    "            # print(\"0\")\n",
    "            return 0\n",
    "\n",
    "    except requests.exceptions.RequestException as e:\n",
    "        return \"\"\n"
   ]
  },
  {
   "cell_type": "code",
   "execution_count": 8,
   "metadata": {
    "colab": {
     "base_uri": "https://localhost:8080/"
    },
    "id": "_lhle4tXNrFV",
    "outputId": "1141b276-b27b-4155-a422-efa3ccf48975"
   },
   "outputs": [
    {
     "name": "stdout",
     "output_type": "stream",
     "text": [
      "0\n",
      "0\n",
      "0\n",
      "630\n",
      "4755\n",
      "0\n",
      "0\n",
      "2330\n",
      "0\n",
      "0\n",
      "3360\n",
      "4790\n",
      "2670\n",
      "15\n",
      "0\n",
      "0\n",
      "0\n",
      "0\n",
      "2555\n",
      "0\n",
      "10\n",
      "1280\n",
      "0\n",
      "0\n",
      "0\n",
      "440\n",
      "1175\n",
      "0\n",
      "10\n",
      "1145\n",
      "14215\n",
      "0\n",
      "5\n",
      "165\n",
      "0\n",
      "40\n",
      "45\n",
      "0\n",
      "0\n",
      "13065\n",
      "0\n",
      "0\n",
      "0\n",
      "0\n",
      "0\n",
      "0\n",
      "0\n",
      "0\n",
      "0\n",
      "0\n",
      "1925\n",
      "605\n",
      "0\n",
      "0\n",
      "0\n",
      "125\n",
      "620\n",
      "0\n",
      "645\n",
      "18360\n",
      "0\n",
      "0\n",
      "0\n",
      "2030\n",
      "0\n",
      "950\n",
      "0\n",
      "13290\n",
      "17880\n",
      "35\n",
      "0\n",
      "7220\n",
      "0\n",
      "0\n",
      "2650\n",
      "950\n",
      "0\n",
      "0\n",
      "975\n",
      "\n",
      "0\n",
      "\n",
      "\n",
      "\n",
      "\n",
      "\n",
      "\n",
      "\n",
      "\n",
      "\n",
      "2510\n",
      "\n",
      "\n",
      "\n",
      "\n",
      "\n",
      "\n",
      "\n",
      "\n"
     ]
    }
   ],
   "source": [
    "# Assuming your DataFrame is called 'df' and the profile links are in the 'profile' column\n",
    "for link in df['profile']:\n",
    "    point = get_points(link)\n",
    "    point = str(point).replace(' points','')  # Example: finding 'a' tags\n",
    "    print(point)  # Or extract specific attributes: element['href']"
   ]
  }
 ],
 "metadata": {
  "colab": {
   "provenance": []
  },
  "kernelspec": {
   "display_name": "Python 3",
   "name": "python3"
  },
  "language_info": {
   "codemirror_mode": {
    "name": "ipython",
    "version": 3
   },
   "file_extension": ".py",
   "mimetype": "text/x-python",
   "name": "python",
   "nbconvert_exporter": "python",
   "pygments_lexer": "ipython3",
   "version": "3.9.6"
  }
 },
 "nbformat": 4,
 "nbformat_minor": 0
}
